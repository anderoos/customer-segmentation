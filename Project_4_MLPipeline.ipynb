{
  "nbformat": 4,
  "nbformat_minor": 0,
  "metadata": {
    "colab": {
      "provenance": []
    },
    "kernelspec": {
      "name": "python3",
      "display_name": "Python 3"
    },
    "language_info": {
      "name": "python"
    }
  },
  "cells": [
    {
      "cell_type": "code",
      "execution_count": null,
      "metadata": {
        "id": "CUvpB1QD7z0b",
        "outputId": "cc370002-a062-496e-e16d-b22fe5e6cede",
        "colab": {
          "base_uri": "https://localhost:8080/"
        }
      },
      "outputs": [
        {
          "output_type": "stream",
          "name": "stdout",
          "text": [
            "\r0% [Working]\r            \rHit:1 http://archive.ubuntu.com/ubuntu jammy InRelease\n",
            "Get:2 http://archive.ubuntu.com/ubuntu jammy-updates InRelease [119 kB]\n",
            "Get:3 https://cloud.r-project.org/bin/linux/ubuntu jammy-cran40/ InRelease [3,626 B]\n",
            "Hit:4 https://developer.download.nvidia.com/compute/cuda/repos/ubuntu2204/x86_64  InRelease\n",
            "Hit:5 http://archive.ubuntu.com/ubuntu jammy-backports InRelease\n",
            "Get:6 http://security.ubuntu.com/ubuntu jammy-security InRelease [110 kB]\n",
            "Get:7 https://ppa.launchpadcontent.net/c2d4u.team/c2d4u4.0+/ubuntu jammy InRelease [18.1 kB]\n",
            "Hit:8 https://ppa.launchpadcontent.net/deadsnakes/ppa/ubuntu jammy InRelease\n",
            "Hit:9 https://ppa.launchpadcontent.net/graphics-drivers/ppa/ubuntu jammy InRelease\n",
            "Get:10 http://archive.ubuntu.com/ubuntu jammy-updates/universe amd64 Packages [1,334 kB]\n",
            "Hit:11 https://ppa.launchpadcontent.net/ubuntugis/ppa/ubuntu jammy InRelease\n",
            "Get:12 http://archive.ubuntu.com/ubuntu jammy-updates/main amd64 Packages [1,678 kB]\n",
            "Get:13 https://ppa.launchpadcontent.net/c2d4u.team/c2d4u4.0+/ubuntu jammy/main Sources [2,268 kB]\n",
            "Get:14 http://security.ubuntu.com/ubuntu jammy-security/universe amd64 Packages [1,064 kB]\n",
            "Get:15 http://security.ubuntu.com/ubuntu jammy-security/main amd64 Packages [1,399 kB]\n",
            "Get:16 https://ppa.launchpadcontent.net/c2d4u.team/c2d4u4.0+/ubuntu jammy/main amd64 Packages [1,164 kB]\n",
            "Fetched 9,157 kB in 3s (3,379 kB/s)\n",
            "Reading package lists... Done\n"
          ]
        }
      ],
      "source": [
        "import os\n",
        "# Find the latest version of spark from https://archive.apache.org/dist/spark/ and enter as the spark version\n",
        "# For example:\n",
        "# spark_version = 'spark-3.5.0'\n",
        "spark_version = 'spark-3.5.0'\n",
        "os.environ['SPARK_VERSION']=spark_version\n",
        "\n",
        "# Install Spark and Java\n",
        "!apt-get update\n",
        "!apt-get install openjdk-11-jdk-headless -qq > /dev/null\n",
        "!wget -q https://archive.apache.org/dist/spark/$SPARK_VERSION/$SPARK_VERSION-bin-hadoop3.tgz\n",
        "!tar xf $SPARK_VERSION-bin-hadoop3.tgz\n",
        "!pip install -q findspark\n",
        "\n",
        "# Set Environment Variables\n",
        "os.environ[\"JAVA_HOME\"] = \"/usr/lib/jvm/java-11-openjdk-amd64\"\n",
        "os.environ[\"SPARK_HOME\"] = f\"/content/{spark_version}-bin-hadoop3\"\n",
        "\n",
        "# Start a SparkSession\n",
        "import findspark\n",
        "findspark.init()"
      ]
    },
    {
      "cell_type": "code",
      "source": [
        "# Import packages\n",
        "from pyspark.sql import SparkSession\n",
        "import time\n",
        "\n",
        "# Create a SparkSession\n",
        "spark = SparkSession.builder\\\n",
        "    .appName(\"SparkSQL\")\\\n",
        "    .config(\"spark.sql.debug.maxToStringFields\", 2000)\\\n",
        "    .config(\"spark.driver.memory\", \"2g\")\\\n",
        "    .getOrCreate()"
      ],
      "metadata": {
        "id": "KOyUcdUA9HyN"
      },
      "execution_count": null,
      "outputs": []
    },
    {
      "cell_type": "code",
      "source": [
        "# Read in data from ecommerce\n",
        "from pyspark import SparkFiles\n",
        "csv = \"https://raw.githubusercontent.com/anderoos/customer-segmentation/main/Resources/raw/ecommerce_customer_data_custom_ratios.csv\"\n",
        "spark.sparkContext.addFile(csv)\n",
        "df = spark.read.csv(SparkFiles.get(\"ecommerce_customer_data_custom_ratios.csv\"), sep=\",\", header=True)\n",
        "df.show()"
      ],
      "metadata": {
        "colab": {
          "base_uri": "https://localhost:8080/"
        },
        "id": "fKBcMfJD9Uig",
        "outputId": "1b1282df-4fa4-45a6-fb59-a174430a14a9"
      },
      "execution_count": 9,
      "outputs": [
        {
          "output_type": "stream",
          "name": "stdout",
          "text": [
            "+-----------+-------------------+----------------+-------------+--------+---------------------+--------------+------------+-------+-------------------+---+------+-----+\n",
            "|Customer ID|      Purchase Date|Product Category|Product Price|Quantity|Total Purchase Amount|Payment Method|Customer Age|Returns|      Customer Name|Age|Gender|Churn|\n",
            "+-----------+-------------------+----------------+-------------+--------+---------------------+--------------+------------+-------+-------------------+---+------+-----+\n",
            "|      46251|2020-09-08 09:38:32|     Electronics|           12|       3|                  740|   Credit Card|          37|    0.0|Christine Hernandez| 37|  Male|    0|\n",
            "|      46251|2022-03-05 12:56:35|            Home|          468|       4|                 2739|        PayPal|          37|    0.0|Christine Hernandez| 37|  Male|    0|\n",
            "|      46251|2022-05-23 18:18:01|            Home|          288|       2|                 3196|        PayPal|          37|    0.0|Christine Hernandez| 37|  Male|    0|\n",
            "|      46251|2020-11-12 13:13:29|        Clothing|          196|       1|                 3509|        PayPal|          37|    0.0|Christine Hernandez| 37|  Male|    0|\n",
            "|      13593|2020-11-27 17:55:11|            Home|          449|       1|                 3452|   Credit Card|          49|    0.0|        James Grant| 49|Female|    1|\n",
            "|      13593|2023-03-07 14:17:42|            Home|          250|       4|                  575|        PayPal|          49|    1.0|        James Grant| 49|Female|    1|\n",
            "|      13593|2023-04-15 03:02:33|     Electronics|           73|       1|                 1896|   Credit Card|          49|    0.0|        James Grant| 49|Female|    1|\n",
            "|      13593|2021-03-27 21:23:28|           Books|          337|       2|                 2937|          Cash|          49|    0.0|        James Grant| 49|Female|    1|\n",
            "|      13593|2020-05-05 20:14:00|        Clothing|          182|       2|                 3363|        PayPal|          49|    1.0|        James Grant| 49|Female|    1|\n",
            "|      28805|2023-09-13 04:24:00|     Electronics|          394|       2|                 1993|   Credit Card|          19|    0.0|       Jose Collier| 19|  Male|    0|\n",
            "|      28805|2021-03-31 09:50:57|        Clothing|          366|       1|                  246|        PayPal|          19|    0.0|       Jose Collier| 19|  Male|    0|\n",
            "|      28805|2021-01-18 22:42:24|           Books|          348|       1|                 2682|   Credit Card|          19|    1.0|       Jose Collier| 19|  Male|    0|\n",
            "|      28805|2020-01-07 12:57:35|           Books|          103|       4|                  731|          Cash|          19|    0.0|       Jose Collier| 19|  Male|    0|\n",
            "|      28805|2021-02-12 20:33:20|           Books|          240|       1|                 2563|        PayPal|          19|    0.0|       Jose Collier| 19|  Male|    0|\n",
            "|      28805|2020-07-02 02:54:37|        Clothing|          368|       1|                 1342|   Credit Card|          19|   NULL|       Jose Collier| 19|  Male|    0|\n",
            "|      28961|2021-04-25 23:55:21|           Books|           30|       1|                 4135|        PayPal|          55|   NULL|        James Stein| 55|  Male|    0|\n",
            "|      28961|2020-01-13 09:57:17|           Books|          153|       5|                  698|   Credit Card|          55|    0.0|        James Stein| 55|  Male|    0|\n",
            "|      28961|2023-06-18 21:34:27|        Clothing|          259|       1|                 2975|   Credit Card|          55|    0.0|        James Stein| 55|  Male|    0|\n",
            "|      28961|2021-09-10 00:39:41|           Books|          489|       3|                 2213|   Credit Card|          55|    1.0|        James Stein| 55|  Male|    0|\n",
            "|      28961|2023-06-01 19:07:10|           Books|          232|       3|                 4452|        PayPal|          55|    1.0|        James Stein| 55|  Male|    0|\n",
            "+-----------+-------------------+----------------+-------------+--------+---------------------+--------------+------------+-------+-------------------+---+------+-----+\n",
            "only showing top 20 rows\n",
            "\n"
          ]
        }
      ]
    },
    {
      "cell_type": "code",
      "source": [],
      "metadata": {
        "id": "dENtfms7CJtE"
      },
      "execution_count": null,
      "outputs": []
    }
  ]
}