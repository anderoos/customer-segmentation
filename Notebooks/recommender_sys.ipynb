{
 "cells": [
  {
   "cell_type": "code",
   "execution_count": 1,
   "outputs": [
    {
     "name": "stdout",
     "output_type": "stream",
     "text": [
      "Collecting surprise\r\n",
      "  Downloading surprise-0.1-py2.py3-none-any.whl (1.8 kB)\r\n",
      "Collecting scikit-surprise (from surprise)\r\n",
      "  Downloading scikit-surprise-1.1.3.tar.gz (771 kB)\r\n",
      "\u001B[2K     \u001B[90m━━━━━━━━━━━━━━━━━━━━━━━━━━━━━━━━━━━━━━\u001B[0m \u001B[32m772.0/772.0 kB\u001B[0m \u001B[31m18.7 MB/s\u001B[0m eta \u001B[36m0:00:00\u001B[0m00:01\u001B[0m\r\n",
      "\u001B[?25h  Preparing metadata (setup.py) ... \u001B[?25ldone\r\n",
      "\u001B[?25hRequirement already satisfied: joblib>=1.0.0 in /Users/andrewcheng/anaconda3/lib/python3.11/site-packages (from scikit-surprise->surprise) (1.2.0)\r\n",
      "Requirement already satisfied: numpy>=1.17.3 in /Users/andrewcheng/anaconda3/lib/python3.11/site-packages (from scikit-surprise->surprise) (1.24.3)\r\n",
      "Requirement already satisfied: scipy>=1.3.2 in /Users/andrewcheng/anaconda3/lib/python3.11/site-packages (from scikit-surprise->surprise) (1.11.3)\r\n",
      "Building wheels for collected packages: scikit-surprise\r\n",
      "  Building wheel for scikit-surprise (setup.py) ... \u001B[?25ldone\r\n",
      "\u001B[?25h  Created wheel for scikit-surprise: filename=scikit_surprise-1.1.3-cp311-cp311-macosx_11_0_arm64.whl size=1091194 sha256=19671d82fe6d4b41e97f69756d8c58e124ae650af6e782d8ecca34f066e4771e\r\n",
      "  Stored in directory: /Users/andrewcheng/Library/Caches/pip/wheels/f4/2b/26/e2a5eae55d3b7688995e66abe7f40473aac6c95ddd8ee174a8\r\n",
      "Successfully built scikit-surprise\r\n",
      "Installing collected packages: scikit-surprise, surprise\r\n",
      "Successfully installed scikit-surprise-1.1.3 surprise-0.1\r\n"
     ]
    }
   ],
   "source": [
    "# ! pip install surprise"
   ],
   "metadata": {
    "collapsed": false,
    "ExecuteTime": {
     "end_time": "2024-02-06T02:45:49.661723Z",
     "start_time": "2024-02-06T02:45:31.620484Z"
    }
   },
   "id": "ae5364a038b56180"
  },
  {
   "cell_type": "code",
   "execution_count": 2,
   "id": "initial_id",
   "metadata": {
    "collapsed": true,
    "ExecuteTime": {
     "end_time": "2024-02-06T02:45:50.710830Z",
     "start_time": "2024-02-06T02:45:49.879084Z"
    }
   },
   "outputs": [],
   "source": [
    "import pandas as pd\n",
    "import numpy as np\n",
    "\n",
    "import surprise"
   ]
  },
  {
   "cell_type": "code",
   "execution_count": null,
   "outputs": [],
   "source": [],
   "metadata": {
    "collapsed": false
   },
   "id": "6291360711ef764a"
  }
 ],
 "metadata": {
  "kernelspec": {
   "display_name": "Python 3",
   "language": "python",
   "name": "python3"
  },
  "language_info": {
   "codemirror_mode": {
    "name": "ipython",
    "version": 2
   },
   "file_extension": ".py",
   "mimetype": "text/x-python",
   "name": "python",
   "nbconvert_exporter": "python",
   "pygments_lexer": "ipython2",
   "version": "2.7.6"
  }
 },
 "nbformat": 4,
 "nbformat_minor": 5
}
