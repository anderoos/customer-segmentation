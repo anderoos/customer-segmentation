{
 "cells": [
  {
   "cell_type": "markdown",
   "source": [
    "\n",
    "# Source:\n",
    "\n",
    "https://www.youtube.com/watch?v=J6BSx-gNw7E&t=130s"
   ],
   "metadata": {
    "collapsed": false
   },
   "id": "32c8243ad5987a2"
  },
  {
   "cell_type": "code",
   "execution_count": 12,
   "id": "initial_id",
   "metadata": {
    "collapsed": true,
    "ExecuteTime": {
     "end_time": "2024-02-06T18:32:46.344635Z",
     "start_time": "2024-02-06T18:32:46.336915Z"
    }
   },
   "outputs": [],
   "source": [
    "# Dependencies\n",
    "from pyspark import SparkContext\n",
    "from pyspark.sql import SparkSession\n",
    "from pyspark.sql.functions import *\n",
    "\n",
    "from passwords import db_params\n",
    "\n",
    "import warnings\n",
    "warnings.filterwarnings('ignore')"
   ]
  },
  {
   "cell_type": "code",
   "execution_count": 2,
   "outputs": [
    {
     "name": "stdout",
     "output_type": "stream",
     "text": [
      "java version \"21.0.2\" 2024-01-16 LTS\r\n",
      "Java(TM) SE Runtime Environment (build 21.0.2+13-LTS-58)\r\n",
      "Java HotSpot(TM) 64-Bit Server VM (build 21.0.2+13-LTS-58, mixed mode, sharing)\r\n"
     ]
    }
   ],
   "source": [
    "# Check Java Version\n",
    "!java -version"
   ],
   "metadata": {
    "collapsed": false,
    "ExecuteTime": {
     "end_time": "2024-02-06T18:32:15.239295Z",
     "start_time": "2024-02-06T18:32:15.080965Z"
    }
   },
   "id": "d73868b5fe7f5076"
  },
  {
   "cell_type": "code",
   "execution_count": 3,
   "outputs": [
    {
     "name": "stderr",
     "output_type": "stream",
     "text": [
      "24/02/06 13:32:16 WARN NativeCodeLoader: Unable to load native-hadoop library for your platform... using builtin-java classes where applicable\n",
      "Setting default log level to \"WARN\".\n",
      "To adjust logging level use sc.setLogLevel(newLevel). For SparkR, use setLogLevel(newLevel).\n"
     ]
    }
   ],
   "source": [
    "# Spark config\n",
    "spark = SparkSession.builder\\\n",
    "    .config('spark.app.name', 'ecommerce_etlpipeline')\\\n",
    "    .config('spark.jars', '../Resources/postgresql-42.7.1.jar')\\\n",
    "    .getOrCreate()"
   ],
   "metadata": {
    "collapsed": false,
    "ExecuteTime": {
     "end_time": "2024-02-06T18:32:17.008368Z",
     "start_time": "2024-02-06T18:32:15.240741Z"
    }
   },
   "id": "380ba17541ffddac"
  },
  {
   "cell_type": "code",
   "execution_count": 4,
   "outputs": [],
   "source": [
    "# Read in data locally\n",
    "# df = spark.read\\\n",
    "#     .option('header', True)\\\n",
    "#     .option('inferSchema', True)\\\n",
    "#     .csv(\"../Resources/raw/ecommerce_customer_data_custom_ratios.csv\")\n",
    "\n",
    "# Define DB params\n",
    "database_url = \"jdbc:postgresql://localhost:5432/ecommerceDB\"\n",
    "properties = {\n",
    "    \"user\": db_params['user'],\n",
    "    \"password\": db_params['password'],\n",
    "    \"driver\": \"org.postgresql.Driver\"\n",
    "}\n",
    "\n",
    "# Read in data via Java database connectivity \n",
    "df = spark.read.jdbc(url=database_url, table=\"customer_data\", properties=properties)"
   ],
   "metadata": {
    "collapsed": false,
    "ExecuteTime": {
     "end_time": "2024-02-06T18:32:17.828765Z",
     "start_time": "2024-02-06T18:32:17.009749Z"
    }
   },
   "id": "1c3d3c07e948f664"
  },
  {
   "cell_type": "code",
   "execution_count": 5,
   "outputs": [],
   "source": [
    "# Create tempview for querying\n",
    "df.createOrReplaceTempView('customer_data')"
   ],
   "metadata": {
    "collapsed": false,
    "ExecuteTime": {
     "end_time": "2024-02-06T18:32:17.990345Z",
     "start_time": "2024-02-06T18:32:17.830334Z"
    }
   },
   "id": "f43c8c3f843974ab"
  },
  {
   "cell_type": "code",
   "execution_count": 6,
   "outputs": [
    {
     "name": "stdout",
     "output_type": "stream",
     "text": [
      "+-----------+-------------+----------------+-------------+--------+----------------------+--------------+------------+--------------------+-------------------+---+------+-----+\n",
      "|customer_id|purchase_date|product_category|product_price|quantity|total_purchased_amount|payment_method|customer_age|            returned|      customer_name|age|gender|churn|\n",
      "+-----------+-------------+----------------+-------------+--------+----------------------+--------------+------------+--------------------+-------------------+---+------+-----+\n",
      "|      46251|   2020-09-08|     Electronics|           12|       3|                   740|   Credit Card|          37|0.000000000000000000|Christine Hernandez| 37|  Male|    0|\n",
      "|      46251|   2022-03-05|            Home|          468|       4|                  2739|        PayPal|          37|0.000000000000000000|Christine Hernandez| 37|  Male|    0|\n",
      "|      46251|   2022-05-23|            Home|          288|       2|                  3196|        PayPal|          37|0.000000000000000000|Christine Hernandez| 37|  Male|    0|\n",
      "|      46251|   2020-11-12|        Clothing|          196|       1|                  3509|        PayPal|          37|0.000000000000000000|Christine Hernandez| 37|  Male|    0|\n",
      "|      13593|   2020-11-27|            Home|          449|       1|                  3452|   Credit Card|          49|0.000000000000000000|        James Grant| 49|Female|    1|\n",
      "|      13593|   2023-03-07|            Home|          250|       4|                   575|        PayPal|          49|1.000000000000000000|        James Grant| 49|Female|    1|\n",
      "|      13593|   2023-04-15|     Electronics|           73|       1|                  1896|   Credit Card|          49|0.000000000000000000|        James Grant| 49|Female|    1|\n",
      "|      13593|   2021-03-27|           Books|          337|       2|                  2937|          Cash|          49|0.000000000000000000|        James Grant| 49|Female|    1|\n",
      "|      13593|   2020-05-05|        Clothing|          182|       2|                  3363|        PayPal|          49|1.000000000000000000|        James Grant| 49|Female|    1|\n",
      "|      28805|   2023-09-13|     Electronics|          394|       2|                  1993|   Credit Card|          19|0.000000000000000000|       Jose Collier| 19|  Male|    0|\n",
      "|      28805|   2021-03-31|        Clothing|          366|       1|                   246|        PayPal|          19|0.000000000000000000|       Jose Collier| 19|  Male|    0|\n",
      "|      28805|   2021-01-18|           Books|          348|       1|                  2682|   Credit Card|          19|1.000000000000000000|       Jose Collier| 19|  Male|    0|\n",
      "|      28805|   2020-01-07|           Books|          103|       4|                   731|          Cash|          19|0.000000000000000000|       Jose Collier| 19|  Male|    0|\n",
      "|      28805|   2021-02-12|           Books|          240|       1|                  2563|        PayPal|          19|0.000000000000000000|       Jose Collier| 19|  Male|    0|\n",
      "|      28805|   2020-07-02|        Clothing|          368|       1|                  1342|   Credit Card|          19|                NULL|       Jose Collier| 19|  Male|    0|\n",
      "|      28961|   2021-04-25|           Books|           30|       1|                  4135|        PayPal|          55|                NULL|        James Stein| 55|  Male|    0|\n",
      "|      28961|   2020-01-13|           Books|          153|       5|                   698|   Credit Card|          55|0.000000000000000000|        James Stein| 55|  Male|    0|\n",
      "|      28961|   2023-06-18|        Clothing|          259|       1|                  2975|   Credit Card|          55|0.000000000000000000|        James Stein| 55|  Male|    0|\n",
      "|      28961|   2021-09-10|           Books|          489|       3|                  2213|   Credit Card|          55|1.000000000000000000|        James Stein| 55|  Male|    0|\n",
      "|      28961|   2023-06-01|           Books|          232|       3|                  4452|        PayPal|          55|1.000000000000000000|        James Stein| 55|  Male|    0|\n",
      "+-----------+-------------+----------------+-------------+--------+----------------------+--------------+------------+--------------------+-------------------+---+------+-----+\n"
     ]
    }
   ],
   "source": [
    "# Display table\n",
    "df.show()"
   ],
   "metadata": {
    "collapsed": false,
    "ExecuteTime": {
     "end_time": "2024-02-06T18:32:19.247165Z",
     "start_time": "2024-02-06T18:32:17.990947Z"
    }
   },
   "id": "46077f81e04613bf"
  },
  {
   "cell_type": "code",
   "execution_count": 7,
   "outputs": [
    {
     "name": "stdout",
     "output_type": "stream",
     "text": [
      "Data transformed successfully!\n"
     ]
    }
   ],
   "source": [
    "# Data Munging\n",
    "try:\n",
    "    customer_profile = spark.sql(\"\"\"\n",
    "        SELECT \n",
    "            customer_id, \n",
    "            customer_name,\n",
    "            customer_age,\n",
    "            gender,\n",
    "            count(*) as order_count,\n",
    "            sum(returned) as orders_returned,\n",
    "            sum(churn) as total_churn,\n",
    "            datediff(max(purchase_date), min(purchase_date)) as tenure_days,\n",
    "            avg(product_price) as average_total_per_cart,\n",
    "            sum(quantity) as total_qty_purchased,\n",
    "            sum(total_purchased_amount) as total_spent_historic\n",
    "        FROM \n",
    "            customer_data\n",
    "        GROUP BY \n",
    "            customer_id, customer_name, customer_age, age, gender\n",
    "        \"\"\")\n",
    "    customer_shopping_profile = spark.sql(\"\"\"\n",
    "        SELECT \n",
    "            customer_id, \n",
    "            sum(CASE WHEN payment_method = 'Credit Card' THEN 1 ELSE 0 END) as payment_creditcard,\n",
    "            sum(CASE WHEN payment_method = 'Debit' THEN 1 ELSE 0 END) as payment_debit,\n",
    "            sum(CASE WHEN payment_method = 'Crypto' THEN 1 ELSE 0 END) as payment_crypto,\n",
    "            sum(CASE WHEN payment_method = 'Paypal' THEN 1 ELSE 0 END) as payment_paypal,\n",
    "            sum(CASE WHEN payment_method = 'Cash' THEN 1 ELSE 0 END) as payment_cash,\n",
    "            sum(CASE WHEN product_category = 'Electronics' THEN 1 ELSE 0 END) as cat_electronics,\n",
    "            sum(CASE WHEN product_category = 'Home' THEN 1 ELSE 0 END) as cat_home,\n",
    "            sum(CASE WHEN product_category = 'Clothing' THEN 1 ELSE 0 END) as cat_clothing,\n",
    "            sum(CASE WHEN product_category = 'Books' THEN 1 ELSE 0 END) as cat_books\n",
    "        FROM \n",
    "            customer_data\n",
    "        GROUP BY \n",
    "            customer_id, customer_name, customer_age, age, gender\n",
    "        \"\"\")\n",
    "    print('Data transformed successfully!')\n",
    "except Exception as err:\n",
    "    print('Error Encountered during transformation:' + str(err))"
   ],
   "metadata": {
    "collapsed": false,
    "ExecuteTime": {
     "end_time": "2024-02-06T18:32:19.356825Z",
     "start_time": "2024-02-06T18:32:19.245578Z"
    }
   },
   "id": "8652e12e2433f910"
  },
  {
   "cell_type": "code",
   "execution_count": 8,
   "outputs": [
    {
     "name": "stderr",
     "output_type": "stream",
     "text": [
      "[Stage 1:>                                                          (0 + 1) / 1]\r"
     ]
    },
    {
     "name": "stdout",
     "output_type": "stream",
     "text": [
      "+-----------+-----------------+------------+------+-----------+--------------------+-----------+-----------+----------------------+-------------------+--------------------+\n",
      "|customer_id|    customer_name|customer_age|gender|order_count|     orders_returned|total_churn|tenure_days|average_total_per_cart|total_qty_purchased|total_spent_historic|\n",
      "+-----------+-----------------+------------+------+-----------+--------------------+-----------+-----------+----------------------+-------------------+--------------------+\n",
      "|      48644|     Marcus Eaton|          69|Female|          4|1.000000000000000000|          0|       1025|                 130.0|                  6|               15548|\n",
      "|       5847|      Lauren Wood|          70|  Male|          3|1.000000000000000000|          3|       1146|     316.3333333333333|                  9|                3164|\n",
      "|      31097|        Anne Frye|          25|  Male|          3|2.000000000000000000|          0|        622|    201.66666666666666|                 10|               11298|\n",
      "|      18817|        Kelly Kim|          62|Female|          6|2.000000000000000000|          0|        785|    184.83333333333334|                 17|               19694|\n",
      "|       6814|         Jody Liu|          51|  Male|          3|2.000000000000000000|          0|        841|    208.33333333333334|                 11|               11140|\n",
      "|       8430|  Kimberly Bailey|          21|Female|          8|2.000000000000000000|          0|       1000|               183.125|                 20|               20697|\n",
      "|      49874|      Thomas Webb|          53|  Male|         10|5.000000000000000000|          0|       1295|                 207.9|                 28|               25652|\n",
      "|      43665|Brian Blankenship|          29|Female|          8|5.000000000000000000|          0|       1243|                278.75|                 18|               17353|\n",
      "|      47548| Frederick Campos|          37|Female|          3|1.000000000000000000|          0|        509|    229.33333333333334|                 11|                8542|\n",
      "|      15912|  Alexandra Smith|          65|  Male|          5|4.000000000000000000|          0|       1252|                 243.4|                 22|               14033|\n",
      "|      26423|  Daniel Mcdaniel|          54|Female|          6|2.000000000000000000|          0|       1205|    147.33333333333334|                 18|               26381|\n",
      "|       8770|   Jennifer Mckay|          69|  Male|          8|3.000000000000000000|          0|       1185|               276.375|                 26|               27517|\n",
      "|      47803|    Sandra Miller|          37|Female|          4|1.000000000000000000|          0|       1111|                 286.5|                 12|               13165|\n",
      "|      34763|   Shannon Cannon|          32|  Male|          6|2.000000000000000000|          6|       1167|     279.1666666666667|                 25|               25831|\n",
      "|      31765|      Craig Novak|          54|Female|         11|5.000000000000000000|          0|       1281|     286.3636363636364|                 31|               30023|\n",
      "|      45740|   Meghan Johnson|          58|Female|          5|3.000000000000000000|          0|       1047|                 203.8|                 10|               15766|\n",
      "|      45336|   Heather Fuller|          59|Female|          6|4.000000000000000000|          0|       1271|                 289.0|                 12|               19113|\n",
      "|      25378|  Katherine Smith|          51|Female|          4|0.000000000000000000|          0|       1139|                 260.5|                 10|               11954|\n",
      "|      37288| Howard Alexander|          32|  Male|          4|1.000000000000000000|          0|        747|                185.25|                 11|               13182|\n",
      "|      19659| Audrey Rodriguez|          67|  Male|          7|4.000000000000000000|          0|        661|    151.14285714285714|                 22|               26048|\n",
      "+-----------+-----------------+------------+------+-----------+--------------------+-----------+-----------+----------------------+-------------------+--------------------+\n"
     ]
    },
    {
     "name": "stderr",
     "output_type": "stream",
     "text": [
      "                                                                                \r"
     ]
    }
   ],
   "source": [
    "customer_profile.show()"
   ],
   "metadata": {
    "collapsed": false,
    "ExecuteTime": {
     "end_time": "2024-02-06T18:32:20.564261Z",
     "start_time": "2024-02-06T18:32:19.355012Z"
    }
   },
   "id": "e665e9b5665aa73e"
  },
  {
   "cell_type": "code",
   "execution_count": 9,
   "outputs": [
    {
     "name": "stdout",
     "output_type": "stream",
     "text": [
      "+-----------+------------------+-------------+--------------+--------------+------------+---------------+--------+------------+---------+\n",
      "|customer_id|payment_creditcard|payment_debit|payment_crypto|payment_paypal|payment_cash|cat_electronics|cat_home|cat_clothing|cat_books|\n",
      "+-----------+------------------+-------------+--------------+--------------+------------+---------------+--------+------------+---------+\n",
      "|      48644|                 1|            0|             0|             0|           1|              1|       1|           2|        0|\n",
      "|       5847|                 1|            0|             0|             0|           2|              1|       2|           0|        0|\n",
      "|      31097|                 1|            0|             0|             0|           1|              0|       1|           1|        1|\n",
      "|      18817|                 1|            0|             0|             0|           2|              1|       2|           2|        1|\n",
      "|       6814|                 3|            0|             0|             0|           0|              1|       0|           1|        1|\n",
      "|       8430|                 2|            0|             1|             0|           1|              3|       2|           2|        1|\n",
      "|      49874|                 0|            0|             1|             0|           3|              2|       1|           4|        3|\n",
      "|      43665|                 5|            0|             0|             0|           1|              1|       2|           1|        4|\n",
      "|      47548|                 1|            0|             1|             0|           0|              2|       1|           0|        0|\n",
      "|      15912|                 2|            0|             1|             0|           1|              2|       0|           2|        1|\n",
      "|      26423|                 3|            0|             0|             0|           2|              0|       1|           2|        3|\n",
      "|       8770|                 4|            0|             0|             0|           2|              1|       2|           1|        4|\n",
      "|      47803|                 3|            0|             1|             0|           0|              0|       2|           1|        1|\n",
      "|      34763|                 1|            0|             0|             0|           0|              2|       1|           1|        2|\n",
      "|      31765|                 3|            0|             2|             0|           3|              5|       1|           2|        3|\n",
      "|      45740|                 4|            0|             0|             0|           0|              0|       2|           1|        2|\n",
      "|      45336|                 2|            0|             0|             0|           0|              1|       1|           2|        2|\n",
      "|      25378|                 0|            0|             1|             0|           2|              1|       2|           1|        0|\n",
      "|      37288|                 2|            0|             0|             0|           1|              0|       1|           1|        2|\n",
      "|      19659|                 1|            0|             2|             0|           0|              4|       0|           2|        1|\n",
      "+-----------+------------------+-------------+--------------+--------------+------------+---------------+--------+------------+---------+\n"
     ]
    }
   ],
   "source": [
    "customer_shopping_profile.show()"
   ],
   "metadata": {
    "collapsed": false,
    "ExecuteTime": {
     "end_time": "2024-02-06T18:32:21.198206Z",
     "start_time": "2024-02-06T18:32:20.561791Z"
    }
   },
   "id": "218374cd93247ddc"
  },
  {
   "cell_type": "code",
   "execution_count": 10,
   "outputs": [
    {
     "name": "stdout",
     "output_type": "stream",
     "text": [
      "Customer Profile Data loaded successfully!\n",
      "Customer Shopping Profile Data loaded successfully!\n"
     ]
    }
   ],
   "source": [
    "# Load data\n",
    "try:\n",
    "    customer_profile.write\\\n",
    "        .option('mode', 'overwrite') \\\n",
    "        .option('user', properties['user']) \\\n",
    "        .option('password', properties['password']) \\\n",
    "        .option('driver', properties['driver']) \\\n",
    "        .jdbc(table= 'customer_profile',\n",
    "              url=database_url)\n",
    "    print('Customer Profile Data loaded successfully!')\n",
    "except Exception as err:\n",
    "    print('Error Encountered during transformation:' + str(err))\n",
    "\n",
    "\n",
    "try:\n",
    "    customer_shopping_profile.write \\\n",
    "        .option('mode', 'overwrite') \\\n",
    "        .option('user', properties['user']) \\\n",
    "        .option('password', properties['password']) \\\n",
    "        .option('driver', properties['driver']) \\\n",
    "        .jdbc(table= 'customer_shopping_profile',\n",
    "              url=database_url)\n",
    "    print('Customer Shopping Profile Data loaded successfully!')\n",
    "except Exception as err:\n",
    "    print('Error Encountered during transformation:' + str(err))\n",
    "\n"
   ],
   "metadata": {
    "collapsed": false,
    "ExecuteTime": {
     "end_time": "2024-02-06T18:32:22.909170Z",
     "start_time": "2024-02-06T18:32:21.197110Z"
    }
   },
   "id": "fdfce19774df55d4"
  },
  {
   "cell_type": "code",
   "execution_count": 11,
   "outputs": [],
   "source": [
    "spark.stop()"
   ],
   "metadata": {
    "collapsed": false,
    "ExecuteTime": {
     "end_time": "2024-02-06T18:32:22.975411Z",
     "start_time": "2024-02-06T18:32:22.899760Z"
    }
   },
   "id": "84d0a11308fefc1"
  },
  {
   "cell_type": "code",
   "execution_count": 11,
   "outputs": [],
   "source": [],
   "metadata": {
    "collapsed": false,
    "ExecuteTime": {
     "end_time": "2024-02-06T18:32:22.975611Z",
     "start_time": "2024-02-06T18:32:22.962992Z"
    }
   },
   "id": "2a8fc1abaf5b7731"
  }
 ],
 "metadata": {
  "kernelspec": {
   "display_name": "Python 3",
   "language": "python",
   "name": "python3"
  },
  "language_info": {
   "codemirror_mode": {
    "name": "ipython",
    "version": 2
   },
   "file_extension": ".py",
   "mimetype": "text/x-python",
   "name": "python",
   "nbconvert_exporter": "python",
   "pygments_lexer": "ipython2",
   "version": "2.7.6"
  }
 },
 "nbformat": 4,
 "nbformat_minor": 5
}
