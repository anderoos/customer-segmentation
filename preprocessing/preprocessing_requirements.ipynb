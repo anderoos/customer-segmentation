{
 "cells": [
  {
   "cell_type": "code",
   "execution_count": 351,
   "id": "initial_id",
   "metadata": {
    "collapsed": true,
    "ExecuteTime": {
     "end_time": "2024-02-06T04:19:11.903599Z",
     "start_time": "2024-02-06T04:19:11.894312Z"
    }
   },
   "outputs": [],
   "source": [
    "# Dependencies\n",
    "import numpy as np\n",
    "import pandas as pd\n",
    "import datetime as dt"
   ]
  },
  {
   "cell_type": "code",
   "execution_count": 352,
   "outputs": [
    {
     "data": {
      "text/plain": "   Customer ID        Purchase Date Product Category  Product Price  Quantity  \\\n0        46251  2020-09-08 09:38:32      Electronics             12         3   \n1        46251  2022-03-05 12:56:35             Home            468         4   \n2        46251  2022-05-23 18:18:01             Home            288         2   \n3        46251  2020-11-12 13:13:29         Clothing            196         1   \n4        13593  2020-11-27 17:55:11             Home            449         1   \n\n   Total Purchase Amount Payment Method  Customer Age  Returns  \\\n0                    740    Credit Card            37      0.0   \n1                   2739         PayPal            37      0.0   \n2                   3196         PayPal            37      0.0   \n3                   3509         PayPal            37      0.0   \n4                   3452    Credit Card            49      0.0   \n\n         Customer Name  Age  Gender  Churn  \n0  Christine Hernandez   37    Male      0  \n1  Christine Hernandez   37    Male      0  \n2  Christine Hernandez   37    Male      0  \n3  Christine Hernandez   37    Male      0  \n4          James Grant   49  Female      1  ",
      "text/html": "<div>\n<style scoped>\n    .dataframe tbody tr th:only-of-type {\n        vertical-align: middle;\n    }\n\n    .dataframe tbody tr th {\n        vertical-align: top;\n    }\n\n    .dataframe thead th {\n        text-align: right;\n    }\n</style>\n<table border=\"1\" class=\"dataframe\">\n  <thead>\n    <tr style=\"text-align: right;\">\n      <th></th>\n      <th>Customer ID</th>\n      <th>Purchase Date</th>\n      <th>Product Category</th>\n      <th>Product Price</th>\n      <th>Quantity</th>\n      <th>Total Purchase Amount</th>\n      <th>Payment Method</th>\n      <th>Customer Age</th>\n      <th>Returns</th>\n      <th>Customer Name</th>\n      <th>Age</th>\n      <th>Gender</th>\n      <th>Churn</th>\n    </tr>\n  </thead>\n  <tbody>\n    <tr>\n      <th>0</th>\n      <td>46251</td>\n      <td>2020-09-08 09:38:32</td>\n      <td>Electronics</td>\n      <td>12</td>\n      <td>3</td>\n      <td>740</td>\n      <td>Credit Card</td>\n      <td>37</td>\n      <td>0.0</td>\n      <td>Christine Hernandez</td>\n      <td>37</td>\n      <td>Male</td>\n      <td>0</td>\n    </tr>\n    <tr>\n      <th>1</th>\n      <td>46251</td>\n      <td>2022-03-05 12:56:35</td>\n      <td>Home</td>\n      <td>468</td>\n      <td>4</td>\n      <td>2739</td>\n      <td>PayPal</td>\n      <td>37</td>\n      <td>0.0</td>\n      <td>Christine Hernandez</td>\n      <td>37</td>\n      <td>Male</td>\n      <td>0</td>\n    </tr>\n    <tr>\n      <th>2</th>\n      <td>46251</td>\n      <td>2022-05-23 18:18:01</td>\n      <td>Home</td>\n      <td>288</td>\n      <td>2</td>\n      <td>3196</td>\n      <td>PayPal</td>\n      <td>37</td>\n      <td>0.0</td>\n      <td>Christine Hernandez</td>\n      <td>37</td>\n      <td>Male</td>\n      <td>0</td>\n    </tr>\n    <tr>\n      <th>3</th>\n      <td>46251</td>\n      <td>2020-11-12 13:13:29</td>\n      <td>Clothing</td>\n      <td>196</td>\n      <td>1</td>\n      <td>3509</td>\n      <td>PayPal</td>\n      <td>37</td>\n      <td>0.0</td>\n      <td>Christine Hernandez</td>\n      <td>37</td>\n      <td>Male</td>\n      <td>0</td>\n    </tr>\n    <tr>\n      <th>4</th>\n      <td>13593</td>\n      <td>2020-11-27 17:55:11</td>\n      <td>Home</td>\n      <td>449</td>\n      <td>1</td>\n      <td>3452</td>\n      <td>Credit Card</td>\n      <td>49</td>\n      <td>0.0</td>\n      <td>James Grant</td>\n      <td>49</td>\n      <td>Female</td>\n      <td>1</td>\n    </tr>\n  </tbody>\n</table>\n</div>"
     },
     "execution_count": 352,
     "metadata": {},
     "output_type": "execute_result"
    }
   ],
   "source": [
    "# Read in df\n",
    "df_main = pd.read_csv('../Resources/raw/ecommerce_customer_data_custom_ratios.csv')\n",
    "df_main.head()"
   ],
   "metadata": {
    "collapsed": false,
    "ExecuteTime": {
     "end_time": "2024-02-06T04:19:12.374548Z",
     "start_time": "2024-02-06T04:19:12.136515Z"
    }
   },
   "id": "b7ca9ba24f23638f"
  },
  {
   "cell_type": "code",
   "execution_count": 353,
   "outputs": [],
   "source": [
    "# Convert Purchase Date object to Datetime\n",
    "df_main['Purchase Date'] = pd.to_datetime(df_main['Purchase Date'])"
   ],
   "metadata": {
    "collapsed": false,
    "ExecuteTime": {
     "end_time": "2024-02-06T04:19:12.427471Z",
     "start_time": "2024-02-06T04:19:12.425433Z"
    }
   },
   "id": "b1219c8d5f90ca8c"
  },
  {
   "cell_type": "code",
   "execution_count": 354,
   "outputs": [
    {
     "name": "stdout",
     "output_type": "stream",
     "text": [
      "<class 'pandas.core.frame.DataFrame'>\n",
      "RangeIndex: 250000 entries, 0 to 249999\n",
      "Data columns (total 13 columns):\n",
      " #   Column                 Non-Null Count   Dtype         \n",
      "---  ------                 --------------   -----         \n",
      " 0   Customer ID            250000 non-null  int64         \n",
      " 1   Purchase Date          250000 non-null  datetime64[ns]\n",
      " 2   Product Category       250000 non-null  object        \n",
      " 3   Product Price          250000 non-null  int64         \n",
      " 4   Quantity               250000 non-null  int64         \n",
      " 5   Total Purchase Amount  250000 non-null  int64         \n",
      " 6   Payment Method         250000 non-null  object        \n",
      " 7   Customer Age           250000 non-null  int64         \n",
      " 8   Returns                202404 non-null  float64       \n",
      " 9   Customer Name          250000 non-null  object        \n",
      " 10  Age                    250000 non-null  int64         \n",
      " 11  Gender                 250000 non-null  object        \n",
      " 12  Churn                  250000 non-null  int64         \n",
      "dtypes: datetime64[ns](1), float64(1), int64(7), object(4)\n",
      "memory usage: 24.8+ MB\n"
     ]
    }
   ],
   "source": [
    "# Explore dataset\n",
    "df_main.info()"
   ],
   "metadata": {
    "collapsed": false,
    "ExecuteTime": {
     "end_time": "2024-02-06T04:19:12.771714Z",
     "start_time": "2024-02-06T04:19:12.735930Z"
    }
   },
   "id": "acce3c6375708f5c"
  },
  {
   "cell_type": "code",
   "execution_count": 355,
   "outputs": [],
   "source": [
    "# Aggregate customer data\n",
    "df_customers = df_main.groupby('Customer ID').agg({'Product Category': 'unique', # Category Types\n",
    "                                                   'Purchase Date': 'count', # For total transactions\n",
    "                                                   'Product Price': 'sum',\n",
    "                                                   'Quantity': 'sum',\n",
    "                                                   'Payment Method': 'unique',\n",
    "                                                   'Customer Age': 'mean',\n",
    "                                                   'Returns': 'sum',\n",
    "                                                   'Gender': 'unique',\n",
    "                                                   'Churn': 'sum',}).reset_index()"
   ],
   "metadata": {
    "collapsed": false,
    "ExecuteTime": {
     "end_time": "2024-02-06T04:19:15.336151Z",
     "start_time": "2024-02-06T04:19:13.213875Z"
    }
   },
   "id": "f790f4160b8a6ed6"
  },
  {
   "cell_type": "code",
   "execution_count": 356,
   "outputs": [],
   "source": [
    "# Rename Columns \n",
    "df_customers.columns = ['Customer ID', \n",
    "                        'Shopping Categories',\n",
    "                        'Checkout Instances',\n",
    "                        'Total Purchase Value',\n",
    "                        'Total Items Purchased',\n",
    "                        'Payment Methods',\n",
    "                        'Customer Age',\n",
    "                        'Return Counts',\n",
    "                        'Gender',\n",
    "                        'Churn Rates']"
   ],
   "metadata": {
    "collapsed": false,
    "ExecuteTime": {
     "end_time": "2024-02-06T04:19:15.336460Z",
     "start_time": "2024-02-06T04:19:15.334522Z"
    }
   },
   "id": "3265e58fe31b5ef4"
  },
  {
   "cell_type": "code",
   "execution_count": 357,
   "outputs": [
    {
     "name": "stdout",
     "output_type": "stream",
     "text": [
      "<class 'pandas.core.frame.DataFrame'>\n",
      "RangeIndex: 49673 entries, 0 to 49672\n",
      "Data columns (total 10 columns):\n",
      " #   Column                 Non-Null Count  Dtype  \n",
      "---  ------                 --------------  -----  \n",
      " 0   Customer ID            49673 non-null  int64  \n",
      " 1   Shopping Categories    49673 non-null  object \n",
      " 2   Checkout Instances     49673 non-null  int64  \n",
      " 3   Total Purchase Value   49673 non-null  int64  \n",
      " 4   Total Items Purchased  49673 non-null  int64  \n",
      " 5   Payment Methods        49673 non-null  object \n",
      " 6   Customer Age           49673 non-null  float64\n",
      " 7   Return Counts          49673 non-null  float64\n",
      " 8   Gender                 49673 non-null  object \n",
      " 9   Churn Rates            49673 non-null  int64  \n",
      "dtypes: float64(2), int64(5), object(3)\n",
      "memory usage: 3.8+ MB\n"
     ]
    }
   ],
   "source": [
    "df_customers.info()"
   ],
   "metadata": {
    "collapsed": false,
    "ExecuteTime": {
     "end_time": "2024-02-06T04:19:15.344413Z",
     "start_time": "2024-02-06T04:19:15.339660Z"
    }
   },
   "id": "9b785848424baf6"
  },
  {
   "cell_type": "code",
   "execution_count": 358,
   "outputs": [],
   "source": [
    "# Add min max dates\n",
    "min_shopping = df_main.groupby('Customer ID').agg({'Purchase Date': 'min'}).reset_index()\n",
    "max_shopping = df_main.groupby('Customer ID').agg({'Purchase Date': 'max'}).reset_index()\n",
    "\n",
    "min_shopping.columns = ['Customer ID', 'Min Date']\n",
    "max_shopping.columns = ['Customer ID', 'Max Date']"
   ],
   "metadata": {
    "collapsed": false,
    "ExecuteTime": {
     "end_time": "2024-02-06T04:19:15.786582Z",
     "start_time": "2024-02-06T04:19:15.760767Z"
    }
   },
   "id": "7dcb72d058bfc3a9"
  },
  {
   "cell_type": "code",
   "execution_count": 359,
   "outputs": [],
   "source": [
    "# Joins\n",
    "shopping_pattern = pd.merge(min_shopping, max_shopping, on='Customer ID', how='left')\n",
    "df_customers_main = pd.merge(df_customers, shopping_pattern, on='Customer ID', how='left')"
   ],
   "metadata": {
    "collapsed": false,
    "ExecuteTime": {
     "end_time": "2024-02-06T04:19:16.357125Z",
     "start_time": "2024-02-06T04:19:16.341865Z"
    }
   },
   "id": "546aee1fcba2635a"
  },
  {
   "cell_type": "code",
   "execution_count": 360,
   "outputs": [],
   "source": [
    "# Add Tenure tab\n",
    "df_customers_main['Tenure'] = df_customers_main['Max Date']- df_customers_main['Min Date']\n",
    "df_customers_main['Tenure'] = df_customers_main['Tenure'].dt.days"
   ],
   "metadata": {
    "collapsed": false,
    "ExecuteTime": {
     "end_time": "2024-02-06T04:19:16.999968Z",
     "start_time": "2024-02-06T04:19:16.992105Z"
    }
   },
   "id": "4aad83ca6e6c43f4"
  },
  {
   "cell_type": "code",
   "execution_count": 361,
   "outputs": [
    {
     "name": "stdout",
     "output_type": "stream",
     "text": [
      "<class 'pandas.core.frame.DataFrame'>\n",
      "RangeIndex: 49673 entries, 0 to 49672\n",
      "Data columns (total 13 columns):\n",
      " #   Column                 Non-Null Count  Dtype         \n",
      "---  ------                 --------------  -----         \n",
      " 0   Customer ID            49673 non-null  int64         \n",
      " 1   Shopping Categories    49673 non-null  object        \n",
      " 2   Checkout Instances     49673 non-null  int64         \n",
      " 3   Total Purchase Value   49673 non-null  int64         \n",
      " 4   Total Items Purchased  49673 non-null  int64         \n",
      " 5   Payment Methods        49673 non-null  object        \n",
      " 6   Customer Age           49673 non-null  float64       \n",
      " 7   Return Counts          49673 non-null  float64       \n",
      " 8   Gender                 49673 non-null  object        \n",
      " 9   Churn Rates            49673 non-null  int64         \n",
      " 10  Min Date               49673 non-null  datetime64[ns]\n",
      " 11  Max Date               49673 non-null  datetime64[ns]\n",
      " 12  Tenure                 49673 non-null  int64         \n",
      "dtypes: datetime64[ns](2), float64(2), int64(6), object(3)\n",
      "memory usage: 4.9+ MB\n"
     ]
    }
   ],
   "source": [
    "df_customers_main.info()"
   ],
   "metadata": {
    "collapsed": false,
    "ExecuteTime": {
     "end_time": "2024-02-06T04:19:17.939727Z",
     "start_time": "2024-02-06T04:19:17.932612Z"
    }
   },
   "id": "ff0a5f0a716af4a2"
  },
  {
   "cell_type": "code",
   "execution_count": 362,
   "outputs": [],
   "source": [
    "# Reorganize columns\n",
    "df_customers_main = df_customers_main[['Customer ID', \n",
    "                                       'Gender', \n",
    "                                       'Customer Age', \n",
    "                                       'Checkout Instances', \n",
    "                                       'Churn Rates', \n",
    "                                       'Tenure', \n",
    "                                       'Return Counts',\n",
    "                                       'Shopping Categories', \n",
    "                                       'Checkout Instances', \n",
    "                                       'Total Purchase Value', \n",
    "                                       'Total Items Purchased', \n",
    "                                       'Payment Methods']]"
   ],
   "metadata": {
    "collapsed": false,
    "ExecuteTime": {
     "end_time": "2024-02-06T04:19:19.043485Z",
     "start_time": "2024-02-06T04:19:19.038848Z"
    }
   },
   "id": "e3701f8c7cf1a5b4"
  },
  {
   "cell_type": "code",
   "execution_count": 363,
   "outputs": [
    {
     "name": "stdout",
     "output_type": "stream",
     "text": [
      "<class 'pandas.core.frame.DataFrame'>\n",
      "RangeIndex: 49673 entries, 0 to 49672\n",
      "Data columns (total 12 columns):\n",
      " #   Column                 Non-Null Count  Dtype \n",
      "---  ------                 --------------  ----- \n",
      " 0   Customer ID            49673 non-null  Int64 \n",
      " 1   Gender                 49673 non-null  object\n",
      " 2   Customer Age           49673 non-null  Int64 \n",
      " 3   Checkout Instances     49673 non-null  Int64 \n",
      " 4   Churn Rates            49673 non-null  Int64 \n",
      " 5   Tenure                 49673 non-null  Int64 \n",
      " 6   Return Counts          49673 non-null  Int64 \n",
      " 7   Shopping Categories    49673 non-null  object\n",
      " 8   Checkout Instances     49673 non-null  Int64 \n",
      " 9   Total Purchase Value   49673 non-null  Int64 \n",
      " 10  Total Items Purchased  49673 non-null  Int64 \n",
      " 11  Payment Methods        49673 non-null  object\n",
      "dtypes: Int64(9), object(3)\n",
      "memory usage: 5.0+ MB\n"
     ]
    }
   ],
   "source": [
    "# Reinterpret Columns as String Type\n",
    "df_customers_main = df_customers_main.convert_dtypes('string')\n",
    "df_customers_main.info()"
   ],
   "metadata": {
    "collapsed": false,
    "ExecuteTime": {
     "end_time": "2024-02-06T04:19:19.506034Z",
     "start_time": "2024-02-06T04:19:19.483824Z"
    }
   },
   "id": "f0e3012c1dd36e43"
  },
  {
   "cell_type": "code",
   "execution_count": 364,
   "outputs": [
    {
     "data": {
      "text/plain": "0          [Male]\n1        [Female]\n2        [Female]\n3          [Male]\n4        [Female]\n           ...   \n49668    [Female]\n49669      [Male]\n49670    [Female]\n49671    [Female]\n49672      [Male]\nName: Gender, Length: 49673, dtype: object"
     },
     "execution_count": 364,
     "metadata": {},
     "output_type": "execute_result"
    }
   ],
   "source": [
    "df_customers_main['Gender']"
   ],
   "metadata": {
    "collapsed": false,
    "ExecuteTime": {
     "end_time": "2024-02-06T04:19:20.780460Z",
     "start_time": "2024-02-06T04:19:20.774862Z"
    }
   },
   "id": "22475369dd9475a2"
  },
  {
   "cell_type": "code",
   "execution_count": 365,
   "outputs": [],
   "source": [
    "# Encode Gender\n",
    "df_customers_main['EGender'] = np.where(df_customers_main['Gender'] == '{Female}', 0 ,1)\n"
   ],
   "metadata": {
    "collapsed": false,
    "ExecuteTime": {
     "end_time": "2024-02-06T04:19:34.086016Z",
     "start_time": "2024-02-06T04:19:34.083858Z"
    }
   },
   "id": "2cbbab12ded42f6"
  },
  {
   "cell_type": "code",
   "execution_count": 366,
   "outputs": [
    {
     "data": {
      "text/plain": "0        1\n1        1\n2        1\n3        1\n4        1\n        ..\n49668    1\n49669    1\n49670    1\n49671    1\n49672    1\nName: EGender, Length: 49673, dtype: int64"
     },
     "execution_count": 366,
     "metadata": {},
     "output_type": "execute_result"
    }
   ],
   "source": [
    "df_customers_main['EGender']"
   ],
   "metadata": {
    "collapsed": false,
    "ExecuteTime": {
     "end_time": "2024-02-06T04:19:34.477077Z",
     "start_time": "2024-02-06T04:19:34.472789Z"
    }
   },
   "id": "7dd65ff14f3b21bb"
  },
  {
   "cell_type": "code",
   "execution_count": 335,
   "outputs": [],
   "source": [],
   "metadata": {
    "collapsed": false,
    "ExecuteTime": {
     "end_time": "2024-02-06T04:17:17.270695Z",
     "start_time": "2024-02-06T04:17:17.253261Z"
    }
   },
   "id": "d4bd9899b96e9156"
  }
 ],
 "metadata": {
  "kernelspec": {
   "display_name": "Python 3",
   "language": "python",
   "name": "python3"
  },
  "language_info": {
   "codemirror_mode": {
    "name": "ipython",
    "version": 2
   },
   "file_extension": ".py",
   "mimetype": "text/x-python",
   "name": "python",
   "nbconvert_exporter": "python",
   "pygments_lexer": "ipython2",
   "version": "2.7.6"
  }
 },
 "nbformat": 4,
 "nbformat_minor": 5
}
